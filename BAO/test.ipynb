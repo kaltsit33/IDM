{
 "cells": [
  {
   "cell_type": "markdown",
   "metadata": {},
   "source": [
    "这里我们将对BAO中采取的测量值做一些阐述"
   ]
  },
  {
   "cell_type": "markdown",
   "metadata": {},
   "source": [
    "$\\displaystyle D_M(z)=\\frac{c}{H_0\\sqrt{\\Omega_K}}\\sinh\\left[\\sqrt{\\Omega_K}\\int_0^z\\frac{\\text{d}z'}{H(z')/H_0}\\right]=r_d/\\Delta\\theta\\\\$  \n",
    "when $\\displaystyle\\Omega_k\\to0,D_M(z)=c\\int_0^z\\frac{\\text{d}z'}{H(z')}$"
   ]
  },
  {
   "cell_type": "markdown",
   "metadata": {},
   "source": [
    "$D_H(z)=c/H(z)=r_d/\\Delta z$"
   ]
  },
  {
   "cell_type": "markdown",
   "metadata": {},
   "source": [
    "$F_{AP}(z)=D_M(z)/D_{H}(z)$"
   ]
  },
  {
   "cell_type": "markdown",
   "metadata": {},
   "source": [
    "$\\displaystyle D_V(z)=(zD_M(z)^2D_H(z))^{1/3}=c\\left[z\\left(\\int_0^z\\frac{\\text{d}z'}{H(z')}\\right)^2\\frac{1}{H(z)}\\right]^{1/3}$"
   ]
  },
  {
   "cell_type": "markdown",
   "metadata": {},
   "source": [
    "$\\displaystyle r_d=\\int_{z_d}^{\\infty}\\frac{c_s(z)}{H(z)}\\text{d}z$"
   ]
  },
  {
   "cell_type": "markdown",
   "metadata": {},
   "source": [
    "$\\displaystyle c_s(z)=\\frac{c}{\\sqrt{3\\left(1+\\dfrac{3\\rho_B(z)}{4\\rho_{\\gamma}(z)}\\right)}}=\\frac{c}{\\sqrt{3\\left[1+\\frac{3\\Omega_{b0}}{4\\Omega_{\\gamma0}}\\frac{1}{1+z}\\right]}}$"
   ]
  },
  {
   "cell_type": "markdown",
   "metadata": {},
   "source": [
    "将$r_d$直接作为参数进行限制"
   ]
  },
  {
   "cell_type": "code",
   "execution_count": 1,
   "metadata": {},
   "outputs": [],
   "source": [
    "# 导入包\n",
    "import numpy as np\n",
    "import matplotlib.pyplot as plt\n",
    "import scipy"
   ]
  },
  {
   "cell_type": "code",
   "execution_count": 2,
   "metadata": {},
   "outputs": [],
   "source": [
    "from astropy.constants import c\n",
    "const_c = c.to('km/s').value"
   ]
  },
  {
   "cell_type": "code",
   "execution_count": 3,
   "metadata": {},
   "outputs": [],
   "source": [
    "# 从csv文件中读取数据\n",
    "file_path = \"./BAO.csv\"\n",
    "pandata = np.loadtxt(file_path, delimiter=',', skiprows=1, usecols=(3, 4, 5, 6, 7, 8, 9))\n",
    "z_eff = pandata[:, 0]\n",
    "D_M_obs = pandata[:, 1]\n",
    "D_M_err = pandata[:, 2]\n",
    "D_H_obs = pandata[:, 3]\n",
    "D_H_err = pandata[:, 4]\n",
    "D_V_obs = pandata[:, 5]\n",
    "D_V_err = pandata[:, 6]"
   ]
  },
  {
   "cell_type": "code",
   "execution_count": 4,
   "metadata": {},
   "outputs": [],
   "source": [
    "def function(t, z, kC1, O10, H0):\n",
    "    # z[0] = z(t), z[1] = z'(t), z[2] = z''(t)\n",
    "    dz1 = z[1]\n",
    "    # 减少括号的使用,分为分子与分母\n",
    "    up = H0 ** 4 * kC1 * O10 ** 2 * (z[0] ** 4+1) + 3 * H0 ** 4 * O10 ** 2 * z[0] ** 2 * (2 * kC1-3 * z[1]) \\\n",
    "        + H0 ** 4 * O10 ** 2 * z[0] ** 3 * (4 * kC1 - 3 * z[1]) - 3 * H0 ** 4 * O10 ** 2 * z[1] + 5 * H0 ** 2 * O10 * z[1] ** 3\\\n",
    "            - kC1 * z[1] ** 4 + H0 ** 2 * O10 * z[0] * (4 * H0 ** 2 * kC1 * O10 - 9 * H0 ** 2 * O10 * z[1] + 5 * z[1] ** 3)\n",
    "    down = 2 * H0 ** 2 * O10 * (1 + z[0]) ** 2 * z[1]\n",
    "    dz2 = up / down\n",
    "    return [dz1, dz2]"
   ]
  },
  {
   "cell_type": "code",
   "execution_count": 5,
   "metadata": {},
   "outputs": [],
   "source": [
    "def solution(log_kC1, O20, H0):\n",
    "    kC1 = 10 ** log_kC1\n",
    "    O10 = 1 - O20\n",
    "    t0 = 1 / H0\n",
    "    tspan = (t0, 0)\n",
    "    tn = np.linspace(t0, 0, 100000)\n",
    "    # 从t0开始\n",
    "    zt0 = [0, -H0]\n",
    "\n",
    "    # t0给定初值\n",
    "    z = scipy.integrate.solve_ivp(function, t_span=tspan, y0=zt0, t_eval=tn, method='RK45', args=(kC1, O10, H0))\n",
    "    # z.y[0,:] = z(t), z.y[1,:] = z'(t)\n",
    "    return z"
   ]
  },
  {
   "cell_type": "code",
   "execution_count": 6,
   "metadata": {},
   "outputs": [],
   "source": [
    "class BAO:\n",
    "    def __init__(self, log_kC1, O20, H0, rd):\n",
    "        self.log_kC1 = log_kC1\n",
    "        self.O20 = O20\n",
    "        self.H0 = H0\n",
    "        self.rd = rd\n",
    "        self.z_list = np.array(solution(log_kC1, O20, H0).y[0,:])\n",
    "        self.zprime_list = np.array(solution(log_kC1, O20, H0).y[1,:])\n",
    "\n",
    "    def D_M(self, z):\n",
    "        idx = np.searchsorted(self.z_list, z)\n",
    "        if idx >= len(self.z_list):\n",
    "            idx = len(self.z_list) - 1\n",
    "        intrange = self.z_list[:idx]\n",
    "        integrand = -(1 + intrange) / self.zprime_list[:idx]\n",
    "        intvalue = np.trapz(integrand, intrange)\n",
    "        return intvalue * const_c\n",
    "\n",
    "    def D_H(self, z):\n",
    "        idx = np.searchsorted(self.z_list, z)\n",
    "        if idx >= len(self.z_list):\n",
    "            idx = len(self.z_list) - 1\n",
    "        z1 = self.zprime_list[idx]\n",
    "        Hz = -z1 / (1 + z)\n",
    "        return const_c / Hz\n",
    "\n",
    "    def D_V(self, z):\n",
    "        DM = self.D_M(z)\n",
    "        DH = self.D_H(z)\n",
    "        return (z * DM ** 2 * DH) ** (1/3)"
   ]
  },
  {
   "cell_type": "code",
   "execution_count": 7,
   "metadata": {},
   "outputs": [],
   "source": [
    "def chi_square(log_kC1, O20, H0, rd):\n",
    "    theory = BAO(log_kC1, O20, H0, rd)\n",
    "    A, B, C = [0, 0, 0]\n",
    "    for i in range(len(z_eff)):\n",
    "        z = z_eff[i]\n",
    "        if D_M_obs[i] != 0:\n",
    "            A += (D_M_obs[i] - theory.D_M(z) / rd) ** 2 / D_M_err[i] ** 2\n",
    "        if D_H_obs[i] != 0:\n",
    "            B += (D_H_obs[i] - theory.D_H(z) / rd) ** 2 / D_H_err[i] ** 2\n",
    "        if D_V_obs[i] != 0:\n",
    "            C += (D_V_obs[i] - theory.D_V(z) / rd) ** 2 / D_V_err[i] ** 2\n",
    "    return A + B + C"
   ]
  },
  {
   "cell_type": "code",
   "execution_count": 10,
   "metadata": {},
   "outputs": [
    {
     "data": {
      "text/plain": [
       "278.5763315754342"
      ]
     },
     "execution_count": 10,
     "metadata": {},
     "output_type": "execute_result"
    }
   ],
   "source": [
    "chi_square(0, 0.4, 70, 147.78)"
   ]
  }
 ],
 "metadata": {
  "kernelspec": {
   "display_name": "base",
   "language": "python",
   "name": "python3"
  },
  "language_info": {
   "codemirror_mode": {
    "name": "ipython",
    "version": 3
   },
   "file_extension": ".py",
   "mimetype": "text/x-python",
   "name": "python",
   "nbconvert_exporter": "python",
   "pygments_lexer": "ipython3",
   "version": "3.11.9"
  }
 },
 "nbformat": 4,
 "nbformat_minor": 2
}
