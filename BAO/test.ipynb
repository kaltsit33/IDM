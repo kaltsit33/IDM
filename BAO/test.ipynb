{
 "cells": [
  {
   "cell_type": "markdown",
   "metadata": {},
   "source": [
    "这里我们将对BAO中采取的测量值做一些阐述"
   ]
  },
  {
   "cell_type": "markdown",
   "metadata": {},
   "source": [
    "$\\displaystyle D_M(z)=\\frac{c}{H_0\\sqrt{\\Omega_K}}\\sinh\\left[\\sqrt{\\Omega_K}\\int_0^z\\frac{\\text{d}z'}{H(z')/H_0}\\right]=r_d/\\Delta\\theta\\\\$  \n",
    "when $\\displaystyle\\Omega_k\\to0,D_M(z)=c\\int_0^z\\frac{\\text{d}z'}{H(z')}$"
   ]
  },
  {
   "cell_type": "markdown",
   "metadata": {},
   "source": [
    "$D_H(z)=c/H(z)=r_d/\\Delta z$"
   ]
  },
  {
   "cell_type": "markdown",
   "metadata": {},
   "source": [
    "$F_{AP}(z)=D_M(z)/D_{H}(z)$"
   ]
  },
  {
   "cell_type": "markdown",
   "metadata": {},
   "source": [
    "$\\displaystyle D_V(z)=(zD_M(z)^2D_H(z))^{1/3}=c\\left[z\\left(\\int_0^z\\frac{\\text{d}z'}{H(z')}\\right)^2\\frac{1}{H(z)}\\right]^{1/3}$"
   ]
  },
  {
   "cell_type": "markdown",
   "metadata": {},
   "source": [
    "$\\displaystyle r_d=\\int_{z_d}^{\\infty}\\frac{c_s(z)}{H(z)}\\text{d}z$"
   ]
  },
  {
   "cell_type": "markdown",
   "metadata": {},
   "source": [
    "$\\displaystyle c_s(z)=\\frac{c}{\\sqrt{3\\left(1+\\dfrac{3\\rho_B(z)}{4\\rho_{\\gamma}(z)}\\right)}}$"
   ]
  },
  {
   "cell_type": "markdown",
   "metadata": {},
   "source": [
    "将rd直接作为参数进行限制"
   ]
  }
 ],
 "metadata": {
  "kernelspec": {
   "display_name": "base",
   "language": "python",
   "name": "python3"
  },
  "language_info": {
   "name": "python",
   "version": "3.11.9"
  }
 },
 "nbformat": 4,
 "nbformat_minor": 2
}
