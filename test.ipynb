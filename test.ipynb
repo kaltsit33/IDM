{
 "cells": [
  {
   "cell_type": "markdown",
   "metadata": {},
   "source": [
    "此notebook用于验证代码的可行性，同时与数据相对比"
   ]
  },
  {
   "cell_type": "code",
   "execution_count": 23,
   "metadata": {},
   "outputs": [],
   "source": [
    "# 导入包\n",
    "import matplotlib.pyplot as plt\n",
    "import numpy as np\n",
    "import scipy"
   ]
  },
  {
   "cell_type": "code",
   "execution_count": 24,
   "metadata": {},
   "outputs": [],
   "source": [
    "# 全局基本常数\n",
    "const_c = 2.99792458e5  # 光速"
   ]
  },
  {
   "cell_type": "markdown",
   "metadata": {},
   "source": [
    "### 计算函数class"
   ]
  },
  {
   "cell_type": "markdown",
   "metadata": {},
   "source": [
    "$z''(t)=\\frac{H_0^4\\kappa C_1\\Omega_{1,0}^2(z(t)^4+1)+3H_0^4\\Omega_{1,0}^2z(t)^2(2\\kappa C_1-3z'(t))+H_0^4\\Omega_{1,0}^2z(t)^3(4\\kappa C_1-3z'(t))-3H_0^4\\Omega_{1,0}^2z'(t)+5H_0^2\\Omega_{1,0}z'(t)^3-\\kappa C_1z'(t)^4+H_0^2\\Omega_{1,0}z(t)(4H_0^2\\kappa C_1\\Omega_{1,0}-9H_0^2\\Omega_{1,0}z'(t)+5z'(t)^3)}{2H_0^2\\Omega_{1,0}(1+z(t))^2z'(t)}$"
   ]
  },
  {
   "cell_type": "markdown",
   "metadata": {},
   "source": [
    ">$\\Omega_{1,0}=1-\\Omega_{2,0}\\to \\text{O10},\\Omega_{2,0}\\to \\text{O20},\\kappa C_1\\to \\text{kC1}$"
   ]
  },
  {
   "cell_type": "code",
   "execution_count": 25,
   "metadata": {},
   "outputs": [],
   "source": [
    "# 把z重构为向量函数 z = [dz0,dz1,dz2]\n",
    "def function(t, z, kC1, O10, H0):\n",
    "    # z[0] = z(t), z[1] = z'(t), z[2] = z''(t)\n",
    "    dz1 = z[1]\n",
    "    # 减少括号的使用,分为分子与分母\n",
    "    up = H0**4 * kC1 * O10**2 * (z[0]**4+1) + 3 * H0**4 * O10**2 * z[0]**2 * (2 * kC1-3 * z[1]) \\\n",
    "        + H0**4 * O10**2 * z[0]**3 * (4 * kC1 - 3 * z[1]) - 3 * H0**4 * O10**2 * z[1] + 5 * H0**2 * O10 * z[1]**3\\\n",
    "            - kC1 * z[1]**4 + H0**2 * O10 * z[0] * (4 * H0**2 * kC1 * O10 - 9 * H0**2 * O10 * z[1] + 5 * z[1]**3)\n",
    "    down = 2 * H0**2 * O10 * (1 + z[0])**2 * z[1]\n",
    "    dz2 = up / down\n",
    "    return [dz1, dz2]"
   ]
  },
  {
   "cell_type": "markdown",
   "metadata": {},
   "source": [
    ">$H_0\\to \\text{H0},t_0\\to \\text{t0}$"
   ]
  },
  {
   "cell_type": "code",
   "execution_count": 26,
   "metadata": {},
   "outputs": [],
   "source": [
    "# 求解原方程对应的z(t)与z'(t)\n",
    "def solution(log_kC1, O20, H0):\n",
    "    kC1 = 10**log_kC1\n",
    "    O10 = 1 - O20\n",
    "    t0 = 1 / H0\n",
    "    # 求解区间\n",
    "    tspan = (t0, 0)\n",
    "    tn = np.linspace(t0, 0, 100000)\n",
    "    # 从t0开始\n",
    "    zt0 = [0, -H0]\n",
    "\n",
    "    # t0给定初值\n",
    "    z = scipy.integrate.solve_ivp(function, t_span=tspan, y0=zt0, t_eval=tn, method='RK45', args=(kC1, O10, H0))\n",
    "    # z.y[0,:] = z(t), z.y[1,:] = z'(t)\n",
    "    return z"
   ]
  },
  {
   "cell_type": "markdown",
   "metadata": {},
   "source": [
    "$H(z)=-\\dfrac{1}{1+z}\\dfrac{\\text{d}z}{\\text{d}t}$"
   ]
  },
  {
   "cell_type": "code",
   "execution_count": 27,
   "metadata": {},
   "outputs": [],
   "source": [
    "# 计算Hz的理论值\n",
    "def Hz(z_list, log_kC1, O20, H0):\n",
    "    z = solution(log_kC1, O20, H0)\n",
    "    # 获取对应的解\n",
    "    z_values = np.array(z.y[0, :])\n",
    "    z1_values = np.array(z.y[1, :])\n",
    "    z_list = np.array(z_list)\n",
    "    # 查找对应的z值\n",
    "    idx = np.searchsorted(z_values, z_list)\n",
    "    z1 = z1_values[idx]\n",
    "    H_th = (-1 / (1 + z_list) * z1)\n",
    "    return H_th"
   ]
  },
  {
   "cell_type": "markdown",
   "metadata": {},
   "source": [
    "$\\displaystyle d_L=c(1+z)\\int_0^z\\frac{dz'}{H(z')}=c(1+z)\\left[t_0-t+\\int_t^{t_0}z(t')dt'\\right]$"
   ]
  },
  {
   "cell_type": "code",
   "execution_count": 28,
   "metadata": {},
   "outputs": [],
   "source": [
    "# 计算光度距离\n",
    "def D_L(z_list, log_kC1, O20, H0):\n",
    "    z = solution(log_kC1, O20, H0)\n",
    "    t0 = 1 / H0\n",
    "    # 获取对应的解\n",
    "    t_values = np.array(z.t)\n",
    "    z_values = np.array(z.y[0, :])\n",
    "    z_list = np.array(z_list)\n",
    "\n",
    "    dl_values = []\n",
    "\n",
    "    for z_hz_value in z_list:\n",
    "        # 找到 z_hz_value 在 z_values 中的位置\n",
    "        idx = np.searchsorted(z_values, z_hz_value)\n",
    "        # 如果 z_hz_value 超出了 z_values 的范围，使用最后一个值\n",
    "        if idx >= len(z_values):  \n",
    "            idx = len(z_values) - 1\n",
    "        # 使用梯形规则计算 z0 和 z1 之间的面积\n",
    "        int_value = -np.trapz(z_values[:idx], t_values[:idx])\n",
    "        dl_value = const_c * (1 + z_hz_value) * (t0 - t_values[idx] + int_value)\n",
    "        dl_values.append(dl_value)\n",
    "\n",
    "    return dl_values"
   ]
  },
  {
   "cell_type": "markdown",
   "metadata": {},
   "source": [
    "$m=M+5\\log(d_L)+25$"
   ]
  },
  {
   "cell_type": "code",
   "execution_count": 29,
   "metadata": {},
   "outputs": [],
   "source": [
    "# 计算视星等\n",
    "def m_b(z_list, log_kC1, O20, H0, Mb):\n",
    "    dl = np.array(D_L(z_list, log_kC1, O20, H0))\n",
    "    m_b = 5 * np.log10(dl) + 25 + Mb\n",
    "    return m_b"
   ]
  },
  {
   "cell_type": "markdown",
   "metadata": {},
   "source": [
    "### OHD"
   ]
  },
  {
   "cell_type": "code",
   "execution_count": 30,
   "metadata": {},
   "outputs": [],
   "source": [
    "def OHD(log_kC1, O20, H0):\n",
    "    # 从csv文件中读取数据\n",
    "    file_path = \"./OHD/OHD.csv\"\n",
    "    pandata = np.loadtxt(file_path, delimiter=',', skiprows=1, usecols=(0, 1, 2))\n",
    "    z_hz = pandata[:, 0]\n",
    "    H_z = pandata[:, 1]\n",
    "    err_H = pandata[:, 2]\n",
    "\n",
    "    # 画图比较\n",
    "    plt.figure()\n",
    "    plt.plot(z_hz, Hz(z_hz, log_kC1, O20, H0), label='Theory', c='r', zorder=2)\n",
    "    plt.errorbar(z_hz, H_z, yerr=err_H, fmt='b.', label='Observation', zorder=1)\n",
    "    plt.xlabel('z')\n",
    "    plt.ylabel('H(z)')\n",
    "    plt.legend()\n",
    "    plt.show()"
   ]
  },
  {
   "cell_type": "markdown",
   "metadata": {},
   "source": [
    "### SNe Ia"
   ]
  },
  {
   "cell_type": "code",
   "execution_count": 31,
   "metadata": {},
   "outputs": [],
   "source": [
    "def SNe_Ia(log_kC1, O20, H0, Mb):\n",
    "    # 从txt文件中读取数据\n",
    "    file_path = \"./SNe Ia/Pantheon.txt\"\n",
    "    pandata = np.loadtxt(file_path, skiprows=3, usecols=(1, 4, 5))\n",
    "    # 提取第一列和第三列数据\n",
    "    z_hz = pandata[:, 0]\n",
    "    m = pandata[:, 1]\n",
    "    #mu=pandata[:,1]\n",
    "    #err_mu = pandata[:,2]\n",
    "    err_m = pandata[:, 2]\n",
    "\n",
    "    # 按照z_hz的大小排序\n",
    "    idx = np.argsort(z_hz)\n",
    "    z_hz = z_hz[idx]\n",
    "    m = m[idx]\n",
    "    err_m = err_m[idx]\n",
    "\n",
    "    # 画图比较\n",
    "    plt.figure()\n",
    "    plt.plot(z_hz, m_b(z_hz, log_kC1, O20, H0, Mb), label='Theory', c='r', zorder=2)\n",
    "    plt.errorbar(z_hz, m, yerr=err_m, fmt='b.', label='Observation', zorder=1)\n",
    "    plt.xlabel('z')\n",
    "    plt.ylabel('m_b')\n",
    "    plt.legend()\n",
    "    plt.show()"
   ]
  },
  {
   "cell_type": "markdown",
   "metadata": {},
   "source": [
    "### 画图"
   ]
  },
  {
   "cell_type": "code",
   "execution_count": 32,
   "metadata": {},
   "outputs": [],
   "source": [
    "def main():\n",
    "    OHD(log_kC1=-3, O20=0.26, H0=70)\n",
    "    SNe_Ia(log_kC1=-3, O20=0.28, H0=70, Mb=-19.5)\n"
   ]
  },
  {
   "cell_type": "code",
   "execution_count": 33,
   "metadata": {},
   "outputs": [
    {
     "data": {
      "image/png": "[encoded data removed]",
      "text/plain": [
       "<Figure size 640x480 with 1 Axes>"
      ]
     },
     "metadata": {},
     "output_type": "display_data"
    },
    {
     "data": {
      "image/png": "[encoded data removed]",
      "text/plain": [
       "<Figure size 640x480 with 1 Axes>"
      ]
     },
     "metadata": {},
     "output_type": "display_data"
    }
   ],
   "source": [
    "if __name__ == '__main__':\n",
    "    main()"
   ]
  }
 ],
 "metadata": {
  "kernelspec": {
   "display_name": "base",
   "language": "python",
   "name": "python3"
  },
  "language_info": {
   "codemirror_mode": {
    "name": "ipython",
    "version": 3
   },
   "file_extension": ".py",
   "mimetype": "text/x-python",
   "name": "python",
   "nbconvert_exporter": "python",
   "pygments_lexer": "ipython3",
   "version": "3.11.9"
  }
 },
 "nbformat": 4,
 "nbformat_minor": 2
}
