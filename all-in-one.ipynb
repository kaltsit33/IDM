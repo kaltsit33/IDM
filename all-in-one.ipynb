{
 "cells": [
  {
   "cell_type": "markdown",
   "metadata": {},
   "source": [
    "### 全局基础"
   ]
  },
  {
   "cell_type": "code",
   "execution_count": 1,
   "metadata": {},
   "outputs": [],
   "source": [
    "# 导入包\n",
    "import matplotlib.pyplot as plt\n",
    "import numpy as np\n",
    "import scipy\n",
    "import multiprocessing as mp"
   ]
  },
  {
   "cell_type": "markdown",
   "metadata": {},
   "source": [
    "### 方程求解"
   ]
  },
  {
   "cell_type": "markdown",
   "metadata": {},
   "source": [
    "$z''(t)=\\frac{H_0^4\\kappa C_1\\Omega_{1,0}^2(z(t)^4+1)+3H_0^4\\Omega_{1,0}^2z(t)^2(2\\kappa C_1-3z'(t))+H_0^4\\Omega_{1,0}^2z(t)^3(4\\kappa C_1-3z'(t))-3H_0^4\\Omega_{1,0}^2z'(t)+5H_0^2\\Omega_{1,0}z'(t)^3-\\kappa C_1z'(t)^4+H_0^2\\Omega_{1,0}z(t)(4H_0^2\\kappa C_1\\Omega_{1,0}-9H_0^2\\Omega_{1,0}z'(t)+5z'(t)^3)}{2H_0^2\\Omega_{1,0}(1+z(t))^2z'(t)}$"
   ]
  },
  {
   "cell_type": "code",
   "execution_count": 2,
   "metadata": {},
   "outputs": [],
   "source": [
    "import solution"
   ]
  },
  {
   "cell_type": "markdown",
   "metadata": {},
   "source": [
    "### OHD(only CC)"
   ]
  },
  {
   "cell_type": "markdown",
   "metadata": {},
   "source": [
    "$H(z)=-\\dfrac{1}{1+z}\\dfrac{\\text{d}z}{\\text{d}t}$"
   ]
  },
  {
   "cell_type": "code",
   "execution_count": null,
   "metadata": {},
   "outputs": [],
   "source": [
    "from OHD.result import main\n",
    "\n",
    "if __name__ == '__main__':\n",
    "    mp.freeze_support()\n",
    "    main()"
   ]
  },
  {
   "cell_type": "markdown",
   "metadata": {},
   "source": [
    "### SNe Ia"
   ]
  },
  {
   "cell_type": "markdown",
   "metadata": {},
   "source": [
    "$\\displaystyle d_L=c(1+z)\\int_0^z\\frac{dz'}{H(z')}=c(1+z)\\left[t_0-t+\\int_t^{t_0}z(t')dt'\\right]$"
   ]
  },
  {
   "cell_type": "markdown",
   "metadata": {},
   "source": [
    "$m=M+5\\log(d_L)+25$"
   ]
  },
  {
   "cell_type": "code",
   "execution_count": null,
   "metadata": {},
   "outputs": [],
   "source": [
    "# panthon\n",
    "from SNe.result1 import main\n",
    "\n",
    "if __name__ == '__main__':\n",
    "    mp.freeze_support()\n",
    "    main()"
   ]
  },
  {
   "cell_type": "code",
   "execution_count": null,
   "metadata": {},
   "outputs": [],
   "source": [
    "# panthon+\n",
    "from SNe.result2 import main\n",
    "\n",
    "if __name__ == '__main__':\n",
    "    mp.freeze_support()\n",
    "    main()"
   ]
  },
  {
   "cell_type": "markdown",
   "metadata": {},
   "source": [
    "### BAO"
   ]
  },
  {
   "cell_type": "markdown",
   "metadata": {},
   "source": [
    "$\\displaystyle D_M(z)=\\frac{c}{H_0\\sqrt{\\Omega_K}}\\sinh\\left[\\sqrt{\\Omega_K}\\int_0^z\\frac{\\text{d}z'}{H(z')/H_0}\\right]=r_d/\\Delta\\theta\\\\$  \n",
    "when $\\displaystyle\\Omega_k\\to0,D_M(z)=c\\int_0^z\\frac{\\text{d}z'}{H(z')}$"
   ]
  },
  {
   "cell_type": "markdown",
   "metadata": {},
   "source": [
    "$D_H(z)=c/H(z)=r_d/\\Delta z$"
   ]
  },
  {
   "cell_type": "markdown",
   "metadata": {},
   "source": [
    "$F_{AP}(z)=D_M(z)/D_{H}(z)$"
   ]
  },
  {
   "cell_type": "markdown",
   "metadata": {},
   "source": [
    "$\\displaystyle D_V(z)=(zD_M(z)^2D_H(z))^{1/3}=c\\left[z\\left(\\int_0^z\\frac{\\text{d}z'}{H(z')}\\right)^2\\frac{1}{H(z)}\\right]^{1/3}$"
   ]
  },
  {
   "cell_type": "markdown",
   "metadata": {},
   "source": [
    "$\\displaystyle r_d=\\int_{z_d}^{\\infty}\\frac{c_s(z)}{H(z)}\\text{d}z$"
   ]
  },
  {
   "cell_type": "markdown",
   "metadata": {},
   "source": [
    "$\\displaystyle c_s(z)=\\frac{c}{\\sqrt{3\\left(1+\\dfrac{3\\rho_B(z)}{4\\rho_{\\gamma}(z)}\\right)}}$"
   ]
  },
  {
   "cell_type": "code",
   "execution_count": null,
   "metadata": {},
   "outputs": [],
   "source": [
    "from BAO.result import main\n",
    "\n",
    "if __name__ == '__main__':\n",
    "    mp.freeze_support()\n",
    "    main()"
   ]
  },
  {
   "cell_type": "markdown",
   "metadata": {},
   "source": [
    "### CMB"
   ]
  }
 ],
 "metadata": {
  "kernelspec": {
   "display_name": "base",
   "language": "python",
   "name": "python3"
  },
  "language_info": {
   "codemirror_mode": {
    "name": "ipython",
    "version": 3
   },
   "file_extension": ".py",
   "mimetype": "text/x-python",
   "name": "python",
   "nbconvert_exporter": "python",
   "pygments_lexer": "ipython3",
   "version": "3.11.9"
  }
 },
 "nbformat": 4,
 "nbformat_minor": 2
}
