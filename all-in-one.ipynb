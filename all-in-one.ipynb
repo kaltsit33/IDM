{
 "cells": [
  {
   "cell_type": "markdown",
   "metadata": {},
   "source": [
    "### 全局基础"
   ]
  },
  {
   "cell_type": "code",
   "execution_count": 1,
   "metadata": {},
   "outputs": [],
   "source": [
    "# 导入包\n",
    "import matplotlib.pyplot as plt\n",
    "import numpy as np\n",
    "import scipy\n",
    "import multiprocessing as mp"
   ]
  },
  {
   "cell_type": "markdown",
   "metadata": {},
   "source": [
    "### 方程求解"
   ]
  },
  {
   "cell_type": "markdown",
   "metadata": {},
   "source": [
    "$z''(t)=\\frac{H_0^4\\kappa C_1\\Omega_{1,0}^2(z(t)^4+1)+3H_0^4\\Omega_{1,0}^2z(t)^2(2\\kappa C_1-3z'(t))+H_0^4\\Omega_{1,0}^2z(t)^3(4\\kappa C_1-3z'(t))-3H_0^4\\Omega_{1,0}^2z'(t)+5H_0^2\\Omega_{1,0}z'(t)^3-\\kappa C_1z'(t)^4+H_0^2\\Omega_{1,0}z(t)(4H_0^2\\kappa C_1\\Omega_{1,0}-9H_0^2\\Omega_{1,0}z'(t)+5z'(t)^3)}{2H_0^2\\Omega_{1,0}(1+z(t))^2z'(t)}$"
   ]
  },
  {
   "cell_type": "markdown",
   "metadata": {},
   "source": [
    "### OHD(only CC)"
   ]
  },
  {
   "cell_type": "markdown",
   "metadata": {},
   "source": [
    "$H(z)=-\\dfrac{1}{1+z}\\dfrac{\\text{d}z}{\\text{d}t}$"
   ]
  },
  {
   "cell_type": "code",
   "execution_count": null,
   "metadata": {},
   "outputs": [],
   "source": [
    "from OHD.result import main\n",
    "\n",
    "if __name__ == '__main__':\n",
    "    mp.freeze_support()\n",
    "    main()"
   ]
  },
  {
   "cell_type": "markdown",
   "metadata": {},
   "source": [
    "### SNe Ia"
   ]
  },
  {
   "cell_type": "markdown",
   "metadata": {},
   "source": [
    "$\\displaystyle d_L=c(1+z)\\int_0^z\\frac{dz'}{H(z')}=c(1+z)\\left[t_0-t+\\int_t^{t_0}z(t')dt'\\right]$"
   ]
  },
  {
   "cell_type": "markdown",
   "metadata": {},
   "source": [
    "$m=M+5\\log(d_L)+25$"
   ]
  },
  {
   "cell_type": "code",
   "execution_count": null,
   "metadata": {},
   "outputs": [],
   "source": [
    "# panthon\n",
    "from SNe.result1 import main\n",
    "\n",
    "if __name__ == '__main__':\n",
    "    mp.freeze_support()\n",
    "    main()"
   ]
  },
  {
   "cell_type": "markdown",
   "metadata": {},
   "source": [
    "### BAO"
   ]
  },
  {
   "cell_type": "markdown",
   "metadata": {},
   "source": [
    "### CMB"
   ]
  }
 ],
 "metadata": {
  "kernelspec": {
   "display_name": "base",
   "language": "python",
   "name": "python3"
  },
  "language_info": {
   "codemirror_mode": {
    "name": "ipython",
    "version": 3
   },
   "file_extension": ".py",
   "mimetype": "text/x-python",
   "name": "python",
   "nbconvert_exporter": "python",
   "pygments_lexer": "ipython3",
   "version": "3.11.9"
  }
 },
 "nbformat": 4,
 "nbformat_minor": 2
}
