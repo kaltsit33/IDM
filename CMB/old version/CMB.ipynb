{
 "cells": [
  {
   "cell_type": "markdown",
   "metadata": {},
   "source": [
    "## 理论部分 (scalar mode)"
   ]
  },
  {
   "cell_type": "markdown",
   "metadata": {},
   "source": [
    "$D_l^{XY}=\\dfrac{l(l+1)C_l^{XY}}{2\\pi}$"
   ]
  },
  {
   "cell_type": "markdown",
   "metadata": {},
   "source": [
    "### $TT$ (angular power spectrum)"
   ]
  },
  {
   "cell_type": "markdown",
   "metadata": {},
   "source": [
    "主要参考\n",
    ">Weinberg《Cosmology》 7.2"
   ]
  },
  {
   "cell_type": "markdown",
   "metadata": {},
   "source": [
    "$\\displaystyle C_l^{TT}=\\frac{1}{4\\pi}\\int\\text{d}^2\\hat{n}\\int\\text{d}^2\\hat{n}'P_l(\\hat{n}\\cdot\\hat{n}')\\langle\\Delta T(\\hat{n})\\Delta T(\\hat{n}')\\rangle$,  scalar下可以省略$\\langle\\rangle$"
   ]
  },
  {
   "cell_type": "markdown",
   "metadata": {},
   "source": [
    "$\\displaystyle\\Delta T(\\hat{n})=\\sum_{lm}a_{lm}^TY_l^m(\\hat{n})$"
   ]
  },
  {
   "cell_type": "markdown",
   "metadata": {},
   "source": [
    "#### 标准解"
   ]
  },
  {
   "cell_type": "markdown",
   "metadata": {},
   "source": [
    "$\\displaystyle C_l^{TT}=16\\pi^2T_0^2\\int_0^{\\infty}q^2\\text{d}q\\times\\bigg|\\int_{t_1}^{t_0}\\text{d}t\\left[j_l\\left(qr(t)\\right)F(q,t)+j_l^{\\prime}\\left(qr(t)\\right)G(q,t)+j_l^{\\prime\\prime}\\left(qr(t)\\right)H(q,t)\\right]\\bigg|^2\\\\$  \n",
    "其中$j_l$是$l$阶球贝塞尔函数, $t_1$是重结合时期前充分早的时间点  \n",
    "$\\displaystyle r(t)=\\int_t^{t_0}\\frac{\\text{d}t'}{\\alpha(t')}$"
   ]
  },
  {
   "cell_type": "markdown",
   "metadata": {},
   "source": [
    "$\\displaystyle\n",
    "F(q,t)=\\exp\\left[-\\int_{t}^{t_0}\\omega_c(t')\\text{d}t'\\right]\\times\\left\\lbrace\\omega_c(t)\\left[\\frac{3}{4}\\Phi(q,t)+\\frac{3}{16}\\Pi(q,t)-\\frac{1}{2}\\alpha^2(t)\\ddot{B}_q(t)-\\frac{1}{2}\\alpha(t)\\dot{\\alpha}(t)\\dot{B}_q(t)\\right]-\\frac{1}{2}\\frac{\\text{d}}{\\text{d}t}[A_q(t)+\\alpha^2(t)\\ddot{B}_q(t)+\\alpha(t)\\dot{\\alpha}(t)\\dot{B}_q(t)]\\right\\rbrace,\\\\\n",
    "G(q,t)=-q\\omega_c(t)\\exp\\left[-\\int_t^{t_0}\\omega_c(t')\\text{d}t'\\right]\\times[\\delta u_{B_q}(t)/\\alpha(t)+\\alpha(t)\\dot{B}_q(t)/2],\\\\\n",
    "H(q,t)=\\frac{3}{16}\\omega_c(t)\\exp\\left[-\\int_t^{t_0}\\omega_c(t')\\text{d}t'\\right]\\Pi(q,t).\n",
    "$  \n",
    "其中$\\omega_c(t)$是光子碰撞频率"
   ]
  },
  {
   "cell_type": "markdown",
   "metadata": {},
   "source": [
    "$\\nabla^2A=-8\\pi G\\alpha^2\\delta_q+2H\\alpha^2\\psi\\\\$  \n",
    "$\\psi=\\dfrac{1}{2}[3\\dot{A}+\\nabla^2\\dot{B}]\\\\$  \n",
    "$q^2A_q=8\\pi\\alpha^2\\bar{\\rho}_D\\delta_{D_q}-2H\\alpha^2\\psi_q\\\\$  \n",
    "$\\psi_q=\\dfrac{1}{2}(3\\dot{A}_q-q^2\\dot{B}_q)$"
   ]
  },
  {
   "cell_type": "markdown",
   "metadata": {},
   "source": [
    "$\\delta_{D_q}=\\dfrac{q^2t^2\\mathcal{R}_q^0\\mathcal{T}(\\kappa)}{10\\alpha^2}\\\\$  \n",
    "$\\psi_q=-\\dfrac{3q^2t\\mathcal{R}_q^0\\mathcal{T}(\\kappa)}{5\\alpha^2}$"
   ]
  },
  {
   "cell_type": "markdown",
   "metadata": {},
   "source": [
    "$\\displaystyle J_{ij}(\\bm{x},\\hat{p},t)=\\int\\text{d}^3qJ_{ij}(\\bm{q},\\hat{p},t)e^{i\\bm{q}\\cdot\\bm{x}}\\\\$  \n",
    "$\\displaystyle \\int\\frac{\\text{d}^2\\hat{p}}{4\\pi}J_{ij}(\\bm{q},\\hat{p},t)=a(\\bm{q})\\left[\\delta_{ij}\\Phi(q,t)+\\frac{1}{2}\\hat{q}_i\\hat{q}_j\\Pi(q,t)\\right]$"
   ]
  },
  {
   "cell_type": "markdown",
   "metadata": {},
   "source": [
    "$\\delta\\dot{\\rho}_{Bq}+3H\\delta\\rho_{Bq}-(q^2/\\alpha^2)\\bar{\\rho}_B\\delta u_{Bq}=-\\bar{\\rho}_B\\psi_q$"
   ]
  },
  {
   "cell_type": "markdown",
   "metadata": {},
   "source": [
    "#### 近似"
   ]
  },
  {
   "cell_type": "markdown",
   "metadata": {},
   "source": [
    "1. 略去$F(q,t)$的最后一项\n",
    ">neglect the integrated Sachs-Wolfe effect which is important only for relatively small values of $l$"
   ]
  },
  {
   "cell_type": "markdown",
   "metadata": {},
   "source": [
    "2. 假设在某一时间$t_L$光子的不透明度发生完全突变$\\infty\\to0\\\\$  \n",
    "$\\displaystyle \\left(\\frac{\\Delta T(\\hat{n})}{T_0}\\right)=\\int\\text{d}^3qa(\\bm{q})e^{i\\bm{q}\\cdot\\hat{n}r_L}(F(q)+i\\hat{q}\\cdot\\hat{n}G(q)),\\\\$  \n",
    "$\\displaystyle C_l^{TT}=16\\pi^2T_0^2\\int_0^{\\infty}q^2\\text{d}q\\times[j_l(qr_L)F(q)+j_l^{\\prime}(qr_L)G(q)]^2.$  \n",
    "其中$r_L=r(t_L)$"
   ]
  },
  {
   "cell_type": "markdown",
   "metadata": {},
   "source": [
    "3. 对球贝塞尔函数做近似(没必要)  "
   ]
  },
  {
   "cell_type": "markdown",
   "metadata": {},
   "source": [
    "4. $\\dot{A}_q=0\\\\\n",
    "\\dot{B}_q=-2\\psi_q/q^2\\\\\n",
    "\\ddot{B}_q=-2\\dot{\\psi}_q/q^2\\\\$\n",
    ">the gravitational field perturbations at last scattering are dominated by perturbations in the dark matter density"
   ]
  },
  {
   "cell_type": "markdown",
   "metadata": {},
   "source": [
    "$F(q)=\\dfrac{\\delta T_q(t_L)}{\\bar{T}(t_L)}-\\dfrac{1}{2}\\alpha^2(t_L)\\ddot{B}_q(t_L)-\\dfrac{1}{2}\\alpha(t_L)\\dot{\\alpha}(t_L)\\dot{B}_q(t_L),\\\\\n",
    "G(q)=-q[\\delta u_{\\gamma q}(t_L)/\\alpha(t_L)+\\alpha(t_L)\\dot{B}_q(t_L)/2],\\\\\n",
    "\\dfrac{\\delta T_q}{\\bar{T}}=\\dfrac{\\delta_{\\gamma q}}{3}.$"
   ]
  },
  {
   "cell_type": "markdown",
   "metadata": {},
   "source": [
    "$\\alpha(t)=\\dfrac{1}{1+z(t)},\\dot{\\alpha}(t)=-\\dfrac{1}{(1+z)^2}\\dot{z}(t)$"
   ]
  },
  {
   "cell_type": "markdown",
   "metadata": {},
   "source": [
    "$\\psi_q(t_L)=-\\dfrac{3q^2t_L\\mathcal{R}_q^0\\mathcal{T}(\\kappa)}{5\\alpha_L^2},\\\\\n",
    "\\displaystyle\\delta_{\\gamma q}(t_L)=\\frac{3\\mathcal{R}_q^0}{5}\\left[\\mathcal{T}(\\kappa)(1+3R_L)-(1+R_L)^{-1/4}e^{-\\int_0^{t_L}\\Gamma\\text{d}t}\\mathcal{S}(\\kappa)\\times\\cos\\left(\\int_0^{t_L}\\frac{q\\text{d}t}{\\alpha(t)\\sqrt{3(1+R(t))}}+\\Delta(\\kappa)\\right)\\right],\\\\\n",
    "\\delta u_{\\gamma q}(t_L)=\\frac{3\\mathcal{R}_q^0}{5}\\left[-t_L\\mathcal{T}(\\kappa)+\\frac{\\alpha_L}{\\sqrt{3}q(1+R_L)^{3/4}}e^{-\\int_0^{t_L}\\Gamma\\text{d}t}\\mathcal{S}(\\kappa)\\times\\sin\\left(\\int_0^{t_L}\\frac{q\\text{d}t}{\\alpha(t)\\sqrt{3(1+R(t))}}+\\Delta(\\kappa)\\right)\\right].$  \n",
    "其中$R(t)=3\\bar{\\rho}_B(t)/4\\bar{\\rho}_{\\gamma}(t),R_L=R(t_L),\\alpha_L=\\alpha(t_L)$  "
   ]
  },
  {
   "cell_type": "markdown",
   "metadata": {},
   "source": [
    ">$R(t)\\propto\\alpha(t)$都作为约化宇宙尺度因子"
   ]
  },
  {
   "cell_type": "markdown",
   "metadata": {},
   "source": [
    "$\\mathcal{T}(\\kappa),\\mathcal{S}(\\kappa),\\Delta(\\kappa)$查表,有近似公式  \n",
    "$\\mathcal{T}(\\kappa)\\sim\\dfrac{\\ln[1+(0.124\\kappa)^2]}{(0.124\\kappa)^2}\\left[\\dfrac{1+(1.257\\kappa)^2+(0.4452\\kappa)^4+(0.2197\\kappa)^6}{1+(1.606\\kappa)^2+(0.8568\\kappa)^4+(0.3927\\kappa)^6}\\right]^{1/2},\\\\\n",
    "\\mathcal{S}(\\kappa)\\sim\\left[\\dfrac{1+(1.209\\kappa)^2+(0.5116\\kappa)^4+5^{1/2}(0.1657\\kappa)^6}{1+(0.9459\\kappa)^2+(0.4249\\kappa)^4+(0.1657\\kappa)^6}\\right]^2,\\\\\n",
    "\\Delta(\\kappa)\\sim\\left[\\dfrac{(0.1585\\kappa)^2+(0.9702\\kappa)^4+(0.2460\\kappa)^6}{1+(1.180\\kappa)^2+(1.540\\kappa)^4+(0.9230\\kappa)^6+(0.4197\\kappa)^8}\\right]^{1/4}.$"
   ]
  },
  {
   "cell_type": "markdown",
   "metadata": {},
   "source": [
    "5. 对 2. 的近似做一些修正,即引入朗道阻尼\n",
    ">Landau Damping\n",
    "\n",
    "$\\displaystyle\\int_0^{t_L}\\Gamma\\text{d}t\\to\\int_0^{t_L}\\Gamma\\text{d}t+\\omega_L^2\\sigma_t^2/2=q^2d_D^2/\\alpha_L^2$  \n",
    "其中$\\omega=q/\\alpha\\sqrt{3(1+R)}$"
   ]
  },
  {
   "cell_type": "markdown",
   "metadata": {},
   "source": [
    "$\\displaystyle d_D^2=d_{Silk}^2+d_{Landau}^2,\\\\\n",
    "d_{Silk}^2=\\alpha_L^2\\int_0^{t_L}\\frac{t_{\\gamma}}{6\\alpha^2(1+R)}\\left(\\frac{16}{15}+\\frac{R^2}{1+R}\\right)\\text{d}t,\\\\\n",
    "d_{Landau}^2=\\frac{\\sigma_t^2}{6(1+R_L)}.$"
   ]
  },
  {
   "cell_type": "markdown",
   "metadata": {},
   "source": [
    "$t_{\\gamma}=\\dfrac{1}{\\omega_c}=\\dfrac{1}{n_e\\sigma_Tc},(\\sigma_T$是汤姆孙截面$)\\\\$   \n",
    "$\\sigma_t=\\dfrac{3t_L\\sigma}{2T_L}\\\\$  \n",
    "$\\kappa=\\dfrac{qd_T}{\\alpha_L}$"
   ]
  },
  {
   "cell_type": "markdown",
   "metadata": {},
   "source": [
    "$d_T=\\dfrac{\\sqrt{\\Omega_R}}{(1+z_L)H_0\\Omega_M}$"
   ]
  },
  {
   "cell_type": "markdown",
   "metadata": {},
   "source": [
    "$|\\mathcal{R_q^0}|^2=N^2q^{-3}\\left(\\dfrac{q/\\alpha_0}{k_{\\mathcal{R}}}\\right)^{n_S-1}=R_Cq^{n_S-4}$"
   ]
  },
  {
   "cell_type": "markdown",
   "metadata": {},
   "source": [
    "6. 引入再电离因子$e^{-2\\tau_{reion}}$"
   ]
  },
  {
   "cell_type": "markdown",
   "metadata": {},
   "source": [
    "7. 一些参考值 (教材上给的)\n",
    ">$\\begin{cases}\n",
    "n_S=0.95820,\\\\\n",
    "k_{\\mathcal{R}}=0.05\\ \\text{Mpc}^{-1},\\\\\n",
    "N^2=1.736\\times10^{-10},\\\\\n",
    "e^{-2\\tau_{reion}}=0.80209,\\\\\n",
    "T_0=2.725\\ \\text{T},\\\\\n",
    "1+z_L=1090,\\\\\n",
    "\\sigma=262\\ \\text{K},\\\\\n",
    "t_L=370\\ \\text{kyrs},\\\\\n",
    "R_0=679.6,\\\\\n",
    "R_L=0.6234,\\\\\n",
    "d_T=0.1331\\ \\text{Mpc},\\\\\n",
    "d_{Silk}=0.006555\\ \\text{Mpc},\\\\\n",
    "d_{Landau}=0.004809\\ \\text{Mpc}.\n",
    "\\end{cases}$"
   ]
  },
  {
   "cell_type": "markdown",
   "metadata": {},
   "source": [
    "## 程序实现"
   ]
  },
  {
   "cell_type": "code",
   "execution_count": 115,
   "metadata": {},
   "outputs": [],
   "source": [
    "# 导入包\n",
    "import numpy as np\n",
    "import matplotlib.pyplot as plt\n",
    "import scipy"
   ]
  },
  {
   "cell_type": "code",
   "execution_count": 116,
   "metadata": {},
   "outputs": [],
   "source": [
    "from astropy.constants import c\n",
    "const_c = c.to('km/s').value"
   ]
  },
  {
   "cell_type": "code",
   "execution_count": 117,
   "metadata": {},
   "outputs": [],
   "source": [
    "# 定义微分函数\n",
    "def function(t, z, kC1, O10, H0):\n",
    "    # z[0] = z(t), z[1] = z'(t), z[2] = z''(t)\n",
    "    dz1 = z[1]\n",
    "    # 减少括号的使用,分为分子与分母\n",
    "    up = H0 ** 4 * kC1 * O10 ** 2 * (z[0] ** 4+1) + 3 * H0 ** 4 * O10 ** 2 * z[0] ** 2 * (2 * kC1-3 * z[1]) \\\n",
    "        + H0 ** 4 * O10 ** 2 * z[0] ** 3 * (4 * kC1 - 3 * z[1]) - 3 * H0 ** 4 * O10 ** 2 * z[1] + 5 * H0 ** 2 * O10 * z[1] ** 3\\\n",
    "            - kC1 * z[1] ** 4 + H0 ** 2 * O10 * z[0] * (4 * H0 ** 2 * kC1 * O10 - 9 * H0 ** 2 * O10 * z[1] + 5 * z[1] ** 3)\n",
    "    down = 2 * H0 ** 2 * O10 * (1 + z[0]) ** 2 * z[1]\n",
    "    dz2 = up / down\n",
    "    return [dz1, dz2]"
   ]
  },
  {
   "cell_type": "code",
   "execution_count": 118,
   "metadata": {},
   "outputs": [],
   "source": [
    "# 求解\n",
    "def solution(log_kC1, O20, H0):\n",
    "    kC1 = 10 ** log_kC1\n",
    "    O10 = 1 - O20\n",
    "    t0 = 1 / H0\n",
    "    tspan = (t0, 0)\n",
    "    tn = np.linspace(t0, 0, 100000)\n",
    "    # 从t0开始\n",
    "    zt0 = [0, -H0]\n",
    "\n",
    "    # t0给定初值\n",
    "    z = scipy.integrate.solve_ivp(function, t_span=tspan, y0=zt0, t_eval=tn, method='RK45', args=(kC1, O10, H0))\n",
    "    # z.y[0,:] = z(t), z.y[1,:] = z'(t)\n",
    "    return [z.t, z.y[0, :], z.y[1, :]]"
   ]
  },
  {
   "cell_type": "code",
   "execution_count": 119,
   "metadata": {},
   "outputs": [],
   "source": [
    "# 方程解的t值到不了0,需要插值\n",
    "def interpolation(log_kC1, O20, H0):\n",
    "    t, z0, z1 = solution(log_kC1, O20, H0)\n",
    "    Z0 = scipy.interpolate.interp1d(t, z0, kind='cubic', fill_value='extrapolate', bounds_error=False)\n",
    "    Z1 = scipy.interpolate.interp1d(t, z1, kind='cubic', fill_value='extrapolate', bounds_error=False)\n",
    "    return [Z0, Z1]"
   ]
  },
  {
   "cell_type": "code",
   "execution_count": 120,
   "metadata": {},
   "outputs": [],
   "source": [
    "# 约化尺度因子\n",
    "def alpha(log_kC1, O20, H0):\n",
    "    Z0 = interpolation(log_kC1, O20, H0)[0]\n",
    "    a = lambda t: 1 / (1 + Z0(t))\n",
    "    return a"
   ]
  },
  {
   "cell_type": "code",
   "execution_count": 121,
   "metadata": {},
   "outputs": [],
   "source": [
    "# 光子移动距离\n",
    "def r_t(log_kC1, O20, H0, t):\n",
    "    t0 = 1 / H0\n",
    "    Z0 = interpolation(log_kC1, O20, H0)[0]\n",
    "    r = scipy.integrate.quad(lambda x: (1 + Z0(x)), t, t0)[0]\n",
    "    return r * const_c # Mpc"
   ]
  },
  {
   "cell_type": "markdown",
   "metadata": {},
   "source": [
    "### $TT$ (angular power spectrum)"
   ]
  },
  {
   "cell_type": "code",
   "execution_count": 122,
   "metadata": {},
   "outputs": [],
   "source": [
    "# 计算CMB_TT时需要用到的各类函数,这里采用近似方法\n",
    "class CMB_TT:\n",
    "    # 初始化并传递参数\n",
    "    def __init__ (self, log_kC1, O20, H0, others):\n",
    "        self.log_kC1 = log_kC1\n",
    "        self.O20 = O20\n",
    "        self.H0 = H0\n",
    "        # others=[T_0, z_L, t_L, r_L, alpha_L, dot_alpha_L, R_C, d_D, R_0]\n",
    "        self.T0 = others[0]\n",
    "        self.zL = others[1]\n",
    "        self.tL = others[2]\n",
    "        self.rL = others[3]\n",
    "        self.aL = others[4]\n",
    "        self.daL = others[5]\n",
    "        self.RC = others[6]\n",
    "        self.dD = others[7]\n",
    "        self.R0 = others[8]\n",
    "        # 尺度因子\n",
    "        self.RL = self.aL * self.R0\n",
    "    # 3个近似函数\n",
    "    def T(self, k):\n",
    "        T1 = np.log(1 + (0.124 * k) ** 2) / (0.124 * k) ** 2\n",
    "        T2 = 1 + (1.257 * k) ** 2 + (0.4452 * k) ** 4 + (0.2197 * k) ** 6\n",
    "        T3 = 1 + (1.606 * k) ** 2 + (0.8568 * k) ** 4 + (0.3927 * k) ** 6\n",
    "        return T1 * (T2 / T3) ** 0.5\n",
    "    def S(self, k):\n",
    "        S1 = 1 + (1.209 * k) ** 2 + (0.5116 * k) ** 4 + 5 ** 0.5 * (0.1657 * k) ** 6\n",
    "        S2 = 1 + (0.9459 * k) ** 2 + (0.4249 * k) ** 4 + (0.1657 * k) ** 6\n",
    "        return (S1 / S2) ** 2\n",
    "    def Delta(self, k):\n",
    "        Delta1 = (0.1585 * k) ** 2 + (0.9702 * k) ** 4 + (0.2460 * k) ** 6\n",
    "        Delta2 = 1 + (1.180 * k) ** 2 + (1.540 * k) ** 4 + (0.9230 * k) ** 6 + (0.4197 * k) ** 8\n",
    "        return (Delta1 / Delta2) ** 0.25\n",
    "    # kappa函数\n",
    "    def kappa(self, q):\n",
    "        d_T = 0.035 / ((1 + self.zL) * self.H0) * const_c # Mpc\n",
    "        return q * d_T / self.aL\n",
    "    # Rq0参数\n",
    "    def Rq0(self, q):\n",
    "        Rq02 = self.RC * q ** (0.95820 - 4)\n",
    "        return np.sqrt(Rq02)\n",
    "    # 势函数\n",
    "    def psi(self, q):\n",
    "        psi1 = 3 * q ** 2 * self.tL * self.Rq0(q) * self.T(self.kappa(q))\n",
    "        psi2 = 5 * self.aL ** 2\n",
    "        return -psi1 / psi2\n",
    "    # 2个微扰初始函数\n",
    "    def dotB(self, q):\n",
    "        return -2 * self.psi(q) / (q ** 2)\n",
    "    def ddotB(self, q):\n",
    "        # 对psi求导\n",
    "        dpsi1 = 3 * q ** 2 * self.Rq0(q) * self.T(self.kappa(q)) / 5\n",
    "        dpsi2 = (self.aL ** 2 - 2 * self.aL * self.daL * self.tL) / self.aL ** 4\n",
    "        dpsi = dpsi1 * dpsi2\n",
    "        return -2 * dpsi / (q ** 2)\n",
    "    # 朗道阻尼修正\n",
    "    def Gamma(self, q):\n",
    "        return q ** 2 * self.dD ** 2 / self.aL ** 2\n",
    "    # 光子函数中的积分\n",
    "    def gamma_intvalue(self):\n",
    "        Z0 = interpolation(self.log_kC1, self.O20, self.H0)[0]\n",
    "        def integrand(t):\n",
    "            a = 1 / (1 + Z0(t))\n",
    "            return 1 / (a * np.sqrt(3 * (1 + self.R0 * a)))\n",
    "        # return scipy.integrate.quad(integrand, 0, self.tL)[0] * const_c # Mpc\n",
    "        return 0.1351 * (1 + self.zL) # Mpc\n",
    "    # 2个光子函数\n",
    "    def delta_gamma(self, q):\n",
    "        delta_gamma1 = self.T(self.kappa(q)) * (1 + 3 * self.RL)\n",
    "        delta_gamma2 = (1 + self.RL) ** -0.25 * np.exp(-self.Gamma(q)) * self.S(self.kappa(q))\n",
    "        delta_gamma3 = np.cos(self.gamma_intvalue() * q + self.Delta(self.kappa(q)))\n",
    "        return 3 * self.Rq0(q) / 5 * (delta_gamma1 - delta_gamma2 * delta_gamma3)\n",
    "    def delta_u_gamma(self, q):\n",
    "        delta_u_gamma1 = self.T(self.kappa(q)) * self.tL\n",
    "        delta_u_gamma2 = self.aL / (np.sqrt(3) * q *(1 + self.RL) ** 0.75) * np.exp(-self.Gamma(q)) * self.S(self.kappa(q))\n",
    "        delta_u_gamma3 = np.sin(self.gamma_intvalue() * q + self.Delta(self.kappa(q)))\n",
    "        return 3 * self.Rq0(q) / 5 * (-delta_u_gamma1 + delta_u_gamma2 * delta_u_gamma3)\n",
    "    # 2个时间独立函数\n",
    "    def F(self, q):\n",
    "        F1 = self.delta_gamma(q) / 3\n",
    "        F2 = self.aL * self.ddotB(q) / 2\n",
    "        F3 = self.aL * self.daL * self.dotB(q) / 2\n",
    "        return F1 - F2 - F3\n",
    "    def G(self, q):\n",
    "        G1 = self.delta_u_gamma(q) / self.aL\n",
    "        G2 = self.aL * self.dotB(q) / 2\n",
    "        return -q * (G1 + G2)\n",
    "    # 目标函数\n",
    "    def C_l(self, l):\n",
    "        def jl(l, q):\n",
    "            return scipy.special.spherical_jn(l, q * self.rL)\n",
    "        def jl_prime(l, q):\n",
    "            return scipy.special.spherical_jn(l, q * self.rL, derivative=True)\n",
    "        def integrand(l, q):\n",
    "            return (jl(l, q) * self.F(q) + jl_prime(l, q) * self.G(q)) ** 2 * q ** 2\n",
    "        def intvalue(l):\n",
    "            return scipy.integrate.quad(integrand, 0, np.inf, limit=100, args=(l))[0]\n",
    "        return 16 * np.pi ** 2 * self.T0 ** 2 * intvalue(l)"
   ]
  },
  {
   "cell_type": "code",
   "execution_count": 123,
   "metadata": {},
   "outputs": [],
   "source": [
    "# 传入参数\n",
    "log_kC1 = -5\n",
    "O20 = 0.28\n",
    "H0 = 70 # km/s/Mpc\n",
    "T0 = 2.725e6 # uK\n",
    "zL = 1090 - 1\n",
    "# 计算tL, rL, aL, daL\n",
    "def L_caculate(log_kC1, O20, H0):\n",
    "    Z0 = interpolation(log_kC1, O20, H0)[0]\n",
    "    Z1 = interpolation(log_kC1, O20, H0)[1]\n",
    "    tL = scipy.optimize.root_scalar(lambda x: Z0(x) - zL, method='newton', x0=0).root\n",
    "    rL = r_t(log_kC1, O20, H0, tL)\n",
    "    aL = alpha(log_kC1, O20, H0)(tL)\n",
    "    daL = -1 / (1 + zL) ** 2 * Z1(tL)\n",
    "    return [tL, rL, aL, daL]\n",
    "tL, rL, aL, daL = L_caculate(log_kC1, O20, H0)\n",
    "RC = 1.736e-10 * (0.05) ** (1 - 0.95820) # Mpc^(-1)~\n",
    "dD = 0.008130 # Mpc\n",
    "R0 = 679.6\n",
    "others = [T0, zL, tL, rL, aL, daL, RC, dD, R0]\n",
    "\n",
    "CMB = CMB_TT(log_kC1, O20, H0, others)"
   ]
  },
  {
   "cell_type": "code",
   "execution_count": 124,
   "metadata": {},
   "outputs": [
    {
     "data": {
      "image/png": "[encoded data removed]",
      "text/plain": [
       "<Figure size 640x480 with 1 Axes>"
      ]
     },
     "metadata": {},
     "output_type": "display_data"
    }
   ],
   "source": [
    "l_list = np.linspace(30, 2500, 50)\n",
    "# 计算\n",
    "C_l = np.array(list(map(CMB.C_l, l_list)))\n",
    "# 乘上再电离因子\n",
    "D_l = l_list * (l_list + 1) * C_l / (2 * np.pi) * 0.80209\n",
    "# 画图\n",
    "plt.plot(l_list, D_l)\n",
    "plt.xlabel('$l$')\n",
    "plt.ylabel('$D_l^{TT}$')\n",
    "plt.show()"
   ]
  }
 ],
 "metadata": {
  "kernelspec": {
   "display_name": "base",
   "language": "python",
   "name": "python3"
  },
  "language_info": {
   "codemirror_mode": {
    "name": "ipython",
    "version": 3
   },
   "file_extension": ".py",
   "mimetype": "text/x-python",
   "name": "python",
   "nbconvert_exporter": "python",
   "pygments_lexer": "ipython3",
   "version": "3.11.9"
  }
 },
 "nbformat": 4,
 "nbformat_minor": 2
}
