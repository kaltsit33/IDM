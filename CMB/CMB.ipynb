{
 "cells": [
  {
   "cell_type": "markdown",
   "metadata": {},
   "source": [
    "### 理论部分"
   ]
  },
  {
   "cell_type": "markdown",
   "metadata": {},
   "source": [
    "$D_l^{XY}=\\dfrac{l(l+1)C_l^{XY}}{2\\pi}$"
   ]
  },
  {
   "cell_type": "markdown",
   "metadata": {},
   "source": [
    "$\\Delta(\\hat{n})=\\dfrac{\\delta T(\\hat{n})}{T},C(\\theta)=\\langle\\Delta(\\hat{n}_1)\\Delta(\\hat{n}_2)\\rangle$"
   ]
  },
  {
   "cell_type": "markdown",
   "metadata": {},
   "source": [
    "$\\displaystyle C(\\theta)=\\sum_{lm}C_lY_{lm}(\\hat{n}_1)Y_{lm}^{*}(\\hat{n}_2)$"
   ]
  }
 ],
 "metadata": {
  "language_info": {
   "name": "python"
  }
 },
 "nbformat": 4,
 "nbformat_minor": 2
}
