{
 "cells": [
  {
   "cell_type": "markdown",
   "metadata": {},
   "source": [
    "### 理论部分(scalar mode)"
   ]
  },
  {
   "cell_type": "markdown",
   "metadata": {},
   "source": [
    "$D_l^{XY}=\\dfrac{l(l+1)C_l^{XY}}{2\\pi}$"
   ]
  },
  {
   "cell_type": "markdown",
   "metadata": {},
   "source": [
    ">$C_l^{TT}=C_l$"
   ]
  },
  {
   "cell_type": "markdown",
   "metadata": {},
   "source": [
    "$\\Delta(\\hat{n})=\\dfrac{\\delta T(\\hat{n})}{T},\\ C(\\theta)=\\langle\\Delta(\\hat{n}_1)\\Delta(\\hat{n}_2)\\rangle$"
   ]
  },
  {
   "cell_type": "markdown",
   "metadata": {},
   "source": [
    "$\\displaystyle\\Delta(\\hat{n})=\\sum_{lm}a_{lm}Y_{lm}(\\hat{n})$"
   ]
  },
  {
   "cell_type": "markdown",
   "metadata": {},
   "source": [
    "$\\displaystyle C(\\theta)=\\sum_{lm}C_lY_{lm}(\\hat{n}_1)Y_{lm}^{*}(\\hat{n}_2)$"
   ]
  },
  {
   "cell_type": "markdown",
   "metadata": {},
   "source": [
    "$\\langle a_{lm}a_{l'm'}^*\\rangle=C_l\\delta_{ll'}\\delta_{mm'}$"
   ]
  },
  {
   "cell_type": "markdown",
   "metadata": {},
   "source": [
    "$\\displaystyle C_l=\\frac{2}{\\pi}\\int k^2P_{\\gamma}(k)j_l^2(kx_d)\\,\\text{d}k,\\ k^3P(k)\\propto k^{\\gamma}$"
   ]
  }
 ],
 "metadata": {
  "language_info": {
   "name": "python"
  }
 },
 "nbformat": 4,
 "nbformat_minor": 2
}
