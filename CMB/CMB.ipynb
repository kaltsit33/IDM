{
 "cells": [
  {
   "cell_type": "markdown",
   "metadata": {},
   "source": [
    "### 理论部分 (scalar mode)"
   ]
  },
  {
   "cell_type": "markdown",
   "metadata": {},
   "source": [
    "$D_l^{XY}=\\dfrac{l(l+1)C_l^{XY}}{2\\pi}$"
   ]
  },
  {
   "cell_type": "markdown",
   "metadata": {},
   "source": [
    "#### TT (angular power spectrum)"
   ]
  },
  {
   "cell_type": "markdown",
   "metadata": {},
   "source": [
    "主要参考\n",
    ">Weinberg《Cosmology》 7.2"
   ]
  },
  {
   "cell_type": "markdown",
   "metadata": {},
   "source": [
    "$\\displaystyle C_l^{TT}=\\frac{1}{4\\pi}\\int\\text{d}^2\\hat{n}\\int\\text{d}^2\\hat{n}'P_l(\\hat{n}\\cdot\\hat{n}')\\langle\\Delta T(\\hat{n})\\Delta T(\\hat{n}')\\rangle$,  scalar下可以省略$\\langle\\rangle$"
   ]
  },
  {
   "cell_type": "markdown",
   "metadata": {},
   "source": [
    "$\\displaystyle\\Delta T(\\hat{n})=\\sum_{lm}a_{lm}^TY_l^m(\\hat{n})$"
   ]
  },
  {
   "cell_type": "markdown",
   "metadata": {},
   "source": [
    "先给出标准解  \n",
    "$\\displaystyle C_l^{TT}=16\\pi^2T_0^2\\int_0^{\\infty}q^2\\text{d}q\\times\\bigg|\\int_{t_1}^{t_0}\\text{d}t\\left[j_l\\left(qr(t)\\right)F(q,t)+j_l^{\\prime}\\left(qr(t)\\right)G(q,t)+j_l^{\\prime\\prime}\\left(qr(t)\\right)H(q,t)\\right]\\bigg|^2\\\\$  \n",
    "其中$j_l$是$l$阶球贝塞尔函数, $t_1$是重结合时期前充分早的时间点  \n",
    "$\\displaystyle r(t)=\\int_t^{t_0}\\frac{\\text{d}t'}{\\alpha(t')}$"
   ]
  },
  {
   "cell_type": "markdown",
   "metadata": {},
   "source": [
    "$\\displaystyle\n",
    "F(q,t)=\\exp\\left[-\\int_{t}^{t_0}\\omega_c(t')\\text{d}t'\\right]\\times\\left\\lbrace\\omega_c(t)\\left[\\frac{3}{4}\\Phi(q,t)+\\frac{3}{16}\\Pi(q,t)-\\frac{1}{2}\\alpha^2(t)\\ddot{B}_q(t)-\\frac{1}{2}\\alpha(t)\\dot{\\alpha}(t)\\dot{B}_q(t)\\right]-\\frac{1}{2}\\frac{\\text{d}}{\\text{d}t}[A_q(t)+\\alpha^2(t)\\ddot{B}_q(t)+\\alpha(t)\\dot{\\alpha}(t)\\dot{B}_q(t)]\\right\\rbrace,\\\\\n",
    "G(q,t)=-q\\omega_c(t)\\exp\\left[-\\int_t^{t_0}\\omega_c(t')\\text{d}t'\\right]\\times[\\delta u_{B_q}(t)/\\alpha(t)+\\alpha(t)\\dot{B}_q(t)/2],\\\\\n",
    "H(q,t)=\\frac{3}{16}\\omega_c(t)\\exp\\left[-\\int_t^{t_0}\\omega_c(t')\\text{d}t'\\right]\\Pi(q,t).\n",
    "$  \n",
    "其中$\\omega_c(t)$是光子碰撞频率"
   ]
  },
  {
   "cell_type": "markdown",
   "metadata": {},
   "source": [
    "$\\nabla^2A=-8\\pi G\\alpha^2\\delta_q+2H\\alpha^2\\psi\\\\$  \n",
    "$\\psi=\\dfrac{1}{2}[3\\dot{A}+\\nabla^2\\dot{B}]\\\\$  \n",
    "$q^2A_q=8\\pi\\alpha^2\\bar{\\rho}_D\\delta_{D_q}-2H\\alpha^2\\psi_q\\\\$  \n",
    "$\\psi_q=\\dfrac{1}{2}(3\\dot{A}_q-q^2\\dot{B}_q)$"
   ]
  },
  {
   "cell_type": "markdown",
   "metadata": {},
   "source": [
    "$\\delta_{D_q}=\\dfrac{q^2t^2\\mathcal{R}_q^0\\mathcal{T}(\\kappa)}{10\\alpha^2}\\\\$  \n",
    "$\\psi_q=-\\dfrac{3q^2t\\mathcal{R}_q^0\\mathcal{T}(\\kappa)}{5\\alpha^2}$"
   ]
  },
  {
   "cell_type": "markdown",
   "metadata": {},
   "source": [
    "$\\displaystyle J_{ij}(\\bm{x},\\hat{p},t)=\\int\\text{d}^3qJ_{ij}(\\bm{q},\\hat{p},t)e^{i\\bm{q}\\cdot\\bm{x}}\\\\$  \n",
    "$\\displaystyle \\int\\frac{\\text{d}^2\\hat{p}}{4\\pi}J_{ij}(\\bm{q},\\hat{p},t)=a(\\bm{q})\\left[\\delta_{ij}\\Phi(q,t)+\\frac{1}{2}\\hat{q}_i\\hat{q}_j\\Pi(q,t)\\right]$"
   ]
  },
  {
   "cell_type": "markdown",
   "metadata": {},
   "source": [
    "利用多次近似得到教材上给出的公式  \n",
    "$\\displaystyle l(l+1)C_l^{TT}=\\frac{8\\pi^2l^3}{r_L^3}\\int_1^{\\infty}\\frac{\\beta\\text{d}\\beta}{\\sqrt{\\beta^2-1}}\\left[F^2\\left(\\frac{l\\beta}{r_L}\\right)+\\frac{\\beta^2-1}{\\beta^2}G^2\\left(\\frac{l\\beta}{r_L}\\right)\\right]\\\\$  \n",
    "其中$r_L=r(t_L)$ is the co-moving radius of the surface of last scattering"
   ]
  }
 ],
 "metadata": {
  "kernelspec": {
   "display_name": "base",
   "language": "python",
   "name": "python3"
  },
  "language_info": {
   "name": "python",
   "version": "3.12.1"
  }
 },
 "nbformat": 4,
 "nbformat_minor": 2
}
