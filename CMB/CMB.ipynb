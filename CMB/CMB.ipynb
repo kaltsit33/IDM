{
 "cells": [
  {
   "cell_type": "markdown",
   "metadata": {},
   "source": [
    "## 理论部分 (scalar mode)"
   ]
  },
  {
   "cell_type": "markdown",
   "metadata": {},
   "source": [
    "$D_l^{XY}=\\dfrac{l(l+1)C_l^{XY}}{2\\pi}$"
   ]
  },
  {
   "cell_type": "markdown",
   "metadata": {},
   "source": [
    "### $TT$ (angular power spectrum)\n",
    "这里采用一般论文给出的方法"
   ]
  },
  {
   "cell_type": "markdown",
   "metadata": {},
   "source": [
    "$D_l^{TT}=\\dfrac{l(l+1)C_l}{2\\pi}$"
   ]
  },
  {
   "cell_type": "markdown",
   "metadata": {},
   "source": [
    "$\\displaystyle \\Theta(\\hat{n})=\\frac{\\delta T(\\hat{n})}{T_0}\\\\\n",
    "C(\\theta)=\\langle\\Theta(\\hat{n})\\Theta(\\hat{n}')\\rangle\\\\\n",
    "\\Theta(\\hat{n})=\\sum_{lm}a_{lm}Y_{lm}(\\hat{n})\\\\\n",
    "C(\\theta)=\\frac{1}{4\\pi}\\sum_l(2l+1)C_lP_l(\\cos\\theta)\\\\\n",
    "\\langle a_{lm}a_{l'm'}^*\\rangle=C_l\\delta_{ll'}\\delta_{mm'}$"
   ]
  },
  {
   "cell_type": "markdown",
   "metadata": {},
   "source": [
    "$\\displaystyle C_l=\\frac{2}{\\pi}\\int k^2\\text{d}kP(k)j_l^2(kx_d)$"
   ]
  },
  {
   "cell_type": "markdown",
   "metadata": {},
   "source": [
    "$P_{\\mathcal{R}}(k)=A_s\\left(\\dfrac{k}{k_0}\\right)^{n(k)}\\\\\n",
    "n(k)=n_s-1-(1/2)(\\text{d}n_s/\\text{d}\\ln k)(\\ln k/k_0)+(1/6)(\\text{d}^2n_s/\\text{d}\\ln k^2)(\\ln(k/k_0))^2\\sim n_s-1$  \n",
    ">Planck 2018"
   ]
  }
 ],
 "metadata": {
  "language_info": {
   "name": "python"
  }
 },
 "nbformat": 4,
 "nbformat_minor": 2
}
