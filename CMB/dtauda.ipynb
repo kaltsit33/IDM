{
 "cells": [
  {
   "cell_type": "markdown",
   "metadata": {},
   "source": [
    "$dtauda=\\dfrac{d\\tau}{da}=\\dfrac{dt}{ada}=\\dfrac{1}{a\\dot{a}}$"
   ]
  },
  {
   "cell_type": "code",
   "execution_count": 65,
   "metadata": {},
   "outputs": [],
   "source": [
    "import numpy as np\n",
    "import matplotlib.pyplot as plt\n",
    "import scipy"
   ]
  },
  {
   "cell_type": "code",
   "execution_count": 66,
   "metadata": {},
   "outputs": [],
   "source": [
    "from astropy.constants import c\n",
    "const_c = c.to('km/s').value"
   ]
  },
  {
   "cell_type": "code",
   "execution_count": 67,
   "metadata": {},
   "outputs": [],
   "source": [
    "def function(t, z, kC1, O10, H0):\n",
    "    # z[0] = z(t), z[1] = z'(t), z[2] = z''(t)\n",
    "    dz1 = z[1]\n",
    "    up = H0**4 * kC1 * O10**2 * (z[0]**4+1) + 3 * H0**4 * O10**2 * z[0]**2 * (2 * kC1-3 * z[1]) \\\n",
    "        + H0**4 * O10**2 * z[0]**3 * (4 * kC1 - 3 * z[1]) - 3 * H0**4 * O10**2 * z[1] + 5 * H0**2 * O10 * z[1]**3\\\n",
    "            - kC1 * z[1]**4 + H0**2 * O10 * z[0] * (4 * H0**2 * kC1 * O10 - 9 * H0**2 * O10 * z[1] + 5 * z[1]**3)\n",
    "    down = 2 * H0**2 * O10 * (1 + z[0])**2 * z[1]\n",
    "    dz2 = up / down\n",
    "    return [dz1, dz2]"
   ]
  },
  {
   "cell_type": "code",
   "execution_count": 68,
   "metadata": {},
   "outputs": [],
   "source": [
    "def solution(log_kC1, O20, H0):\n",
    "    kC1 = 10**log_kC1\n",
    "    O10 = 1 - O20\n",
    "    t0 = 1 / H0\n",
    "    # 求解区间\n",
    "    tspan = (t0, 0)\n",
    "    tn = np.linspace(t0, 0, 100000)\n",
    "    # 从t0开始\n",
    "    zt0 = [0, -H0]\n",
    "\n",
    "    # t0给定初值\n",
    "    z = scipy.integrate.solve_ivp(function, t_span=tspan, y0=zt0, t_eval=tn, method='RK45', args=(kC1, O10, H0))\n",
    "    # z.y[0,:] = z(t), z.y[1,:] = z'(t)\n",
    "    return z"
   ]
  },
  {
   "cell_type": "code",
   "execution_count": 69,
   "metadata": {},
   "outputs": [
    {
     "data": {
      "image/png": "[encoded data removed]",
      "text/plain": [
       "<Figure size 640x480 with 1 Axes>"
      ]
     },
     "metadata": {},
     "output_type": "display_data"
    }
   ],
   "source": [
    "z = solution(-3, 0.3, 70)\n",
    "a = 1 / (1 + z.y[0,:])\n",
    "dota = -z.y[1,:] * a ** 2\n",
    "dtauda = 1 / (a * dota)\n",
    "a = np.concatenate((a, [0]))    \n",
    "dtauda = np.concatenate((dtauda, [np.inf]))\n",
    "dtauda = dtauda * const_c\n",
    "plt.plot(a, dtauda)\n",
    "plt.yscale('log')"
   ]
  },
  {
   "cell_type": "code",
   "execution_count": 70,
   "metadata": {},
   "outputs": [],
   "source": [
    "# 将a和dtauda一起保存到同一个txt文件中，每行一个a值和对应的dtauda值\n",
    "data = np.vstack((a, dtauda)).T\n",
    "np.savetxt(r\"D:\\anaconda3\\Lib\\site-packages\\CAMB\\fortran\\temp.txt\", data)"
   ]
  },
  {
   "cell_type": "markdown",
   "metadata": {},
   "source": [
    "```fortran\n",
    "function dtauda(this,a)\n",
    "\n",
    "use results\n",
    "\n",
    "implicit none\n",
    "class(CAMBdata) :: this\n",
    "real(dl), intent(in) :: a\n",
    "real(dl) :: dtauda\n",
    "real(dl) :: list(100000,2)\n",
    "integer :: i, j, iostat\n",
    "\n",
    "open(10, file='temp.txt')\n",
    "do i=1,100000\n",
    "    read(10, *, iostat=iostat) list(i,:)\n",
    "    if (iostat /= 0) exit\n",
    "end do\n",
    "close(10)\n",
    "j = sum(minloc(abs(a-list(:,1))))\n",
    "if (j == 1) then\n",
    "    dtauda = list(1,2)\n",
    "else\n",
    "    dtauda = (list(j,2)-list(j-1,2))/(list(j,1)-list(j-1,1))*(a-list(j,1))+list(j,2)\n",
    "end if\n",
    "write(*,*) 'a=', a, 'dtauda=', dtauda\n",
    "\n",
    "end function dtauda\n",
    "```"
   ]
  }
 ],
 "metadata": {
  "kernelspec": {
   "display_name": "base",
   "language": "python",
   "name": "python3"
  },
  "language_info": {
   "codemirror_mode": {
    "name": "ipython",
    "version": 3
   },
   "file_extension": ".py",
   "mimetype": "text/x-python",
   "name": "python",
   "nbconvert_exporter": "python",
   "pygments_lexer": "ipython3",
   "version": "3.11.9"
  }
 },
 "nbformat": 4,
 "nbformat_minor": 2
}
