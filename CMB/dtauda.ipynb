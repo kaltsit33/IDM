{
 "cells": [
  {
   "cell_type": "markdown",
   "metadata": {},
   "source": [
    "解不到对应的z,power spectrum暂时放弃"
   ]
  },
  {
   "cell_type": "markdown",
   "metadata": {},
   "source": [
    "$dtauda=\\dfrac{d\\tau}{da}=\\dfrac{dt}{ada}=\\dfrac{1}{a\\dot{a}}$"
   ]
  },
  {
   "cell_type": "code",
   "execution_count": 155,
   "metadata": {},
   "outputs": [],
   "source": [
    "# solution.py\n",
    "import numpy as np\n",
    "import scipy\n",
    "\n",
    "# Global fundamental constants\n",
    "import astropy.units as u\n",
    "\n",
    "distance_mpc = 1 * u.Mpc\n",
    "distance_km = distance_mpc.to(u.km)\n",
    "time_gyr = 1 * u.Gyr\n",
    "time_s = time_gyr.to(u.s)\n",
    "# Unit conversion (1/H0 to Gyr)\n",
    "transfer = (distance_km / time_s).value\n",
    "\n",
    "# Reconstruct z as a vector function z = [dz0, dz1, dz2]\n",
    "def function(t, z, kC1, O10, H0):\n",
    "    # z[0] = z(t), z[1] = z'(t), z[2] = z''(t)\n",
    "    dz1 = z[1]\n",
    "    # Reduce the use of parentheses, separate into numerator and denominator\n",
    "    numerator = (\n",
    "        H0**4 * kC1 * O10**2 * (z[0]**4 + 1) +\n",
    "        3 * H0**4 * O10**2 * z[0]**2 * (2 * kC1 - 3 * z[1]) +\n",
    "        H0**4 * O10**2 * z[0]**3 * (4 * kC1 - 3 * z[1]) -\n",
    "        3 * H0**4 * O10**2 * z[1] +\n",
    "        5 * H0**2 * O10 * z[1]**3 -\n",
    "        kC1 * z[1]**4 +\n",
    "        H0**2 * O10 * z[0] * (4 * H0**2 * kC1 * O10 - 9 * H0**2 * O10 * z[1] + 5 * z[1]**3)\n",
    "    )\n",
    "    denominator = 2 * H0**2 * O10 * (1 + z[0])**2 * z[1]\n",
    "    dz2 = numerator / denominator\n",
    "    return [dz1, dz2]\n",
    "\n",
    "# Solve the original equation for z(t) and z'(t)\n",
    "def solution(log_kC1, O20, H0):\n",
    "    # Unit conversion\n",
    "    kC1 = 10**log_kC1 * transfer\n",
    "    O10 = 1 - O20\n",
    "    t0 = 1 / H0\n",
    "    # Solution interval\n",
    "    tspan = (t0, 0)\n",
    "    tn = np.linspace(t0, 0, 100000)\n",
    "    # Start from t0\n",
    "    zt0 = [0, -H0]\n",
    "\n",
    "    # Initial value given at t0\n",
    "    z = scipy.integrate.solve_ivp(function, t_span=tspan, y0=zt0, t_eval=tn, method='RK45',\n",
    "                                args=(kC1, O10, H0))\n",
    "    # z.y[0,:] = z(t), z.y[1,:] = z'(t)\n",
    "    return z"
   ]
  },
  {
   "cell_type": "code",
   "execution_count": 156,
   "metadata": {},
   "outputs": [],
   "source": [
    "# from julia import Main\n",
    "# Main.include(\"../solution.jl\")"
   ]
  },
  {
   "cell_type": "code",
   "execution_count": 157,
   "metadata": {},
   "outputs": [
    {
     "name": "stdout",
     "output_type": "stream",
     "text": [
      "96401\n",
      "4161.178103857204\n"
     ]
    }
   ],
   "source": [
    "z = solution(-6.7, 0.3, 67.5)\n",
    "# z_jl = Main.result(-6.0, 0.3, 70.0)\n",
    "print(len(z.t))\n",
    "print(z.y[0][-1])"
   ]
  },
  {
   "cell_type": "code",
   "execution_count": 158,
   "metadata": {},
   "outputs": [
    {
     "data": {
      "image/png": "[encoded data removed]",
      "text/plain": [
       "<Figure size 640x480 with 1 Axes>"
      ]
     },
     "metadata": {},
     "output_type": "display_data"
    }
   ],
   "source": [
    "import matplotlib.pyplot as plt\n",
    "from astropy.constants import c\n",
    "c_const = c.to('km/s').value\n",
    "\n",
    "a = 1 / (1 + z.y[0,:])\n",
    "dota = -z.y[1,:] * a ** 2\n",
    "dtauda = 1 / (a * dota) * c_const\n",
    "\n",
    "# a_jl = 1 / (1 + z_jl[0])\n",
    "# dota_jl = -z_jl[1] * a_jl ** 2\n",
    "# dtauda_jl = 1 / (a_jl * dota_jl) * c_const\n",
    "\n",
    "data = np.loadtxt('dtauda.txt')\n",
    "a_list = data[:, 0]\n",
    "dtauda_list = data[:, 1]\n",
    "\n",
    "plt.scatter(a_list, dtauda_list, label='lambdaCDM', s=1)\n",
    "plt.plot(a, dtauda, label='IDM', color='red')\n",
    "# plt.plot(a_jl, dtauda_jl, label='Julia', color='blue')\n",
    "plt.yscale('log')\n",
    "plt.xscale('log')\n",
    "plt.legend()\n",
    "plt.show()"
   ]
  },
  {
   "cell_type": "markdown",
   "metadata": {},
   "source": [
    "传参  \n",
    "model.f90\n",
    "```fortran\n",
    "        real(dl), allocatable :: a_list(:)\n",
    "        real(dl), allocatable :: dtauda_list(:)\n",
    "```  \n",
    "model.py\n",
    "```python\n",
    "        (\"a_list\", AllocatableArrayDouble),\n",
    "        (\"dtauda_list\", AllocatableArrayDouble),\n",
    "```"
   ]
  },
  {
   "cell_type": "markdown",
   "metadata": {},
   "source": [
    "```fortran\n",
    "function dtauda(this,a)\n",
    "    use results\n",
    "    implicit none\n",
    "    class(CAMBdata) :: this\n",
    "    real(dl), intent(in) :: a\n",
    "    real(dl) :: dtauda\n",
    "    real(dl), allocatable :: a_list(:), dtauda_list(:)\n",
    "    integer :: low, high, mid, i, n\n",
    "\n",
    "    a_list = this%CP%a_list\n",
    "    dtauda_list = this%CP%dtauda_list\n",
    "\n",
    "    low = 1\n",
    "    high = size(a_list)\n",
    "    if (a <= a_list(high)) then\n",
    "        dtauda = dtauda_list(high)\n",
    "    else\n",
    "        do i=1,18 ! n about 100000\n",
    "            mid = (low + high)/2\n",
    "            if (a == a_list(mid)) then\n",
    "                dtauda = dtauda_list(mid)\n",
    "                exit\n",
    "            else if (a > a_list(mid)) then\n",
    "                high = mid - 1\n",
    "            else\n",
    "                low = mid + 1\n",
    "            end if\n",
    "        end do\n",
    "        dtauda = dtauda_list(mid) + (dtauda_list(mid-1)-dtauda_list(mid))*(a-a_list(mid))/(a_list(mid-1)-a_list(mid))\n",
    "    end if\n",
    "end function dtauda\n",
    "```"
   ]
  }
 ],
 "metadata": {
  "kernelspec": {
   "display_name": "base",
   "language": "python",
   "name": "python3"
  },
  "language_info": {
   "codemirror_mode": {
    "name": "ipython",
    "version": 3
   },
   "file_extension": ".py",
   "mimetype": "text/x-python",
   "name": "python",
   "nbconvert_exporter": "python",
   "pygments_lexer": "ipython3",
   "version": "3.12.7"
  }
 },
 "nbformat": 4,
 "nbformat_minor": 2
}
